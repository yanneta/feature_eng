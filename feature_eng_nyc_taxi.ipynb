{
 "cells": [
  {
   "cell_type": "markdown",
   "metadata": {},
   "source": [
    "# Feature Engeneering for ride duration of taxi trips in New York City"
   ]
  },
  {
   "cell_type": "markdown",
   "metadata": {},
   "source": [
    "In this notebook we explore feature extraction to build a model that predicts the total ride duration of taxi trips in New York City. We are using data from a Kaggle competition (https://www.kaggle.com/c/nyc-taxi-trip-duration/).\n",
    "\n",
    "To get this notebook\n",
    "\n",
    "git clone https://github.com/yanneta/feature_eng.git\n"
   ]
  },
  {
   "cell_type": "code",
   "execution_count": 1,
   "metadata": {},
   "outputs": [
    {
     "name": "stderr",
     "output_type": "stream",
     "text": [
      "/home/yinterian/anaconda/lib/python3.6/site-packages/sklearn/cross_validation.py:44: DeprecationWarning: This module was deprecated in version 0.18 in favor of the model_selection module into which all the refactored classes and functions are moved. Also note that the interface of the new CV iterators are different from that of this module. This module will be removed in 0.20.\n",
      "  \"This module will be removed in 0.20.\", DeprecationWarning)\n"
     ]
    }
   ],
   "source": [
    "%matplotlib inline\n",
    "import numpy as np \n",
    "import pandas as pd\n",
    "from datetime import timedelta\n",
    "import datetime as dt\n",
    "import matplotlib.pyplot as plt\n",
    "import xgboost as xgb\n",
    "from sklearn.cluster import MiniBatchKMeans\n",
    "import warnings"
   ]
  },
  {
   "cell_type": "code",
   "execution_count": 2,
   "metadata": {
    "collapsed": true
   },
   "outputs": [],
   "source": [
    "plt.rcParams['figure.figsize'] = [13, 5]"
   ]
  },
  {
   "cell_type": "markdown",
   "metadata": {},
   "source": [
    "## Initail data exploration"
   ]
  },
  {
   "cell_type": "code",
   "execution_count": 3,
   "metadata": {
    "collapsed": true
   },
   "outputs": [],
   "source": [
    "path = \"/data/yinterian/nyc-taxi-trip-duration/\""
   ]
  },
  {
   "cell_type": "code",
   "execution_count": 4,
   "metadata": {
    "collapsed": true
   },
   "outputs": [],
   "source": [
    "train = pd.read_csv(path + 'train.csv')\n",
    "test = pd.read_csv(path + 'test.csv')"
   ]
  },
  {
   "cell_type": "code",
   "execution_count": 5,
   "metadata": {},
   "outputs": [
    {
     "data": {
      "text/plain": [
       "(1458644, 11)"
      ]
     },
     "execution_count": 5,
     "metadata": {},
     "output_type": "execute_result"
    }
   ],
   "source": [
    "train.shape"
   ]
  },
  {
   "cell_type": "code",
   "execution_count": 6,
   "metadata": {},
   "outputs": [
    {
     "data": {
      "text/html": [
       "<div>\n",
       "<style>\n",
       "    .dataframe thead tr:only-child th {\n",
       "        text-align: right;\n",
       "    }\n",
       "\n",
       "    .dataframe thead th {\n",
       "        text-align: left;\n",
       "    }\n",
       "\n",
       "    .dataframe tbody tr th {\n",
       "        vertical-align: top;\n",
       "    }\n",
       "</style>\n",
       "<table border=\"1\" class=\"dataframe\">\n",
       "  <thead>\n",
       "    <tr style=\"text-align: right;\">\n",
       "      <th></th>\n",
       "      <th>vendor_id</th>\n",
       "      <th>passenger_count</th>\n",
       "      <th>pickup_longitude</th>\n",
       "      <th>pickup_latitude</th>\n",
       "      <th>dropoff_longitude</th>\n",
       "      <th>dropoff_latitude</th>\n",
       "      <th>trip_duration</th>\n",
       "    </tr>\n",
       "  </thead>\n",
       "  <tbody>\n",
       "    <tr>\n",
       "      <th>count</th>\n",
       "      <td>1.458644e+06</td>\n",
       "      <td>1.458644e+06</td>\n",
       "      <td>1.458644e+06</td>\n",
       "      <td>1.458644e+06</td>\n",
       "      <td>1.458644e+06</td>\n",
       "      <td>1.458644e+06</td>\n",
       "      <td>1.458644e+06</td>\n",
       "    </tr>\n",
       "    <tr>\n",
       "      <th>mean</th>\n",
       "      <td>1.534950e+00</td>\n",
       "      <td>1.664530e+00</td>\n",
       "      <td>-7.397349e+01</td>\n",
       "      <td>4.075092e+01</td>\n",
       "      <td>-7.397342e+01</td>\n",
       "      <td>4.075180e+01</td>\n",
       "      <td>9.594923e+02</td>\n",
       "    </tr>\n",
       "    <tr>\n",
       "      <th>std</th>\n",
       "      <td>4.987772e-01</td>\n",
       "      <td>1.314242e+00</td>\n",
       "      <td>7.090186e-02</td>\n",
       "      <td>3.288119e-02</td>\n",
       "      <td>7.064327e-02</td>\n",
       "      <td>3.589056e-02</td>\n",
       "      <td>5.237432e+03</td>\n",
       "    </tr>\n",
       "    <tr>\n",
       "      <th>min</th>\n",
       "      <td>1.000000e+00</td>\n",
       "      <td>0.000000e+00</td>\n",
       "      <td>-1.219333e+02</td>\n",
       "      <td>3.435970e+01</td>\n",
       "      <td>-1.219333e+02</td>\n",
       "      <td>3.218114e+01</td>\n",
       "      <td>1.000000e+00</td>\n",
       "    </tr>\n",
       "    <tr>\n",
       "      <th>25%</th>\n",
       "      <td>1.000000e+00</td>\n",
       "      <td>1.000000e+00</td>\n",
       "      <td>-7.399187e+01</td>\n",
       "      <td>4.073735e+01</td>\n",
       "      <td>-7.399133e+01</td>\n",
       "      <td>4.073588e+01</td>\n",
       "      <td>3.970000e+02</td>\n",
       "    </tr>\n",
       "    <tr>\n",
       "      <th>50%</th>\n",
       "      <td>2.000000e+00</td>\n",
       "      <td>1.000000e+00</td>\n",
       "      <td>-7.398174e+01</td>\n",
       "      <td>4.075410e+01</td>\n",
       "      <td>-7.397975e+01</td>\n",
       "      <td>4.075452e+01</td>\n",
       "      <td>6.620000e+02</td>\n",
       "    </tr>\n",
       "    <tr>\n",
       "      <th>75%</th>\n",
       "      <td>2.000000e+00</td>\n",
       "      <td>2.000000e+00</td>\n",
       "      <td>-7.396733e+01</td>\n",
       "      <td>4.076836e+01</td>\n",
       "      <td>-7.396301e+01</td>\n",
       "      <td>4.076981e+01</td>\n",
       "      <td>1.075000e+03</td>\n",
       "    </tr>\n",
       "    <tr>\n",
       "      <th>max</th>\n",
       "      <td>2.000000e+00</td>\n",
       "      <td>9.000000e+00</td>\n",
       "      <td>-6.133553e+01</td>\n",
       "      <td>5.188108e+01</td>\n",
       "      <td>-6.133553e+01</td>\n",
       "      <td>4.392103e+01</td>\n",
       "      <td>3.526282e+06</td>\n",
       "    </tr>\n",
       "  </tbody>\n",
       "</table>\n",
       "</div>"
      ],
      "text/plain": [
       "          vendor_id  passenger_count  pickup_longitude  pickup_latitude  \\\n",
       "count  1.458644e+06     1.458644e+06      1.458644e+06     1.458644e+06   \n",
       "mean   1.534950e+00     1.664530e+00     -7.397349e+01     4.075092e+01   \n",
       "std    4.987772e-01     1.314242e+00      7.090186e-02     3.288119e-02   \n",
       "min    1.000000e+00     0.000000e+00     -1.219333e+02     3.435970e+01   \n",
       "25%    1.000000e+00     1.000000e+00     -7.399187e+01     4.073735e+01   \n",
       "50%    2.000000e+00     1.000000e+00     -7.398174e+01     4.075410e+01   \n",
       "75%    2.000000e+00     2.000000e+00     -7.396733e+01     4.076836e+01   \n",
       "max    2.000000e+00     9.000000e+00     -6.133553e+01     5.188108e+01   \n",
       "\n",
       "       dropoff_longitude  dropoff_latitude  trip_duration  \n",
       "count       1.458644e+06      1.458644e+06   1.458644e+06  \n",
       "mean       -7.397342e+01      4.075180e+01   9.594923e+02  \n",
       "std         7.064327e-02      3.589056e-02   5.237432e+03  \n",
       "min        -1.219333e+02      3.218114e+01   1.000000e+00  \n",
       "25%        -7.399133e+01      4.073588e+01   3.970000e+02  \n",
       "50%        -7.397975e+01      4.075452e+01   6.620000e+02  \n",
       "75%        -7.396301e+01      4.076981e+01   1.075000e+03  \n",
       "max        -6.133553e+01      4.392103e+01   3.526282e+06  "
      ]
     },
     "execution_count": 6,
     "metadata": {},
     "output_type": "execute_result"
    }
   ],
   "source": [
    "train.describe()"
   ]
  },
  {
   "cell_type": "markdown",
   "metadata": {},
   "source": [
    "Data Description\n",
    "* id - a unique identifier for each trip\n",
    "* vendor_id - a code indicating the provider associated with the trip record\n",
    "* pickup_datetime - date and time when the meter was engaged\n",
    "* dropoff_datetime - date and time when the meter was disengaged\n",
    "* passenger_count - the number of passengers in the vehicle (driver entered value)\n",
    "* pickup_longitude - the longitude where the meter was engaged\n",
    "* pickup_latitude - the latitude where the meter was engaged\n",
    "* dropoff_longitude - the longitude where the meter was disengaged\n",
    "* dropoff_latitude - the latitude where the meter was disengaged\n",
    "* store_and_fwd_flag - This flag indicates whether the trip record was held in vehicle memory before sending to the vendor because the vehicle did not have a connection to the server (Y=store and forward; N=not a store and forward trip)\n",
    "* trip_duration - duration of the trip in seconds"
   ]
  },
  {
   "cell_type": "code",
   "execution_count": 7,
   "metadata": {},
   "outputs": [
    {
     "data": {
      "text/html": [
       "<div>\n",
       "<style>\n",
       "    .dataframe thead tr:only-child th {\n",
       "        text-align: right;\n",
       "    }\n",
       "\n",
       "    .dataframe thead th {\n",
       "        text-align: left;\n",
       "    }\n",
       "\n",
       "    .dataframe tbody tr th {\n",
       "        vertical-align: top;\n",
       "    }\n",
       "</style>\n",
       "<table border=\"1\" class=\"dataframe\">\n",
       "  <thead>\n",
       "    <tr style=\"text-align: right;\">\n",
       "      <th></th>\n",
       "      <th>id</th>\n",
       "      <th>vendor_id</th>\n",
       "      <th>pickup_datetime</th>\n",
       "      <th>dropoff_datetime</th>\n",
       "      <th>passenger_count</th>\n",
       "      <th>pickup_longitude</th>\n",
       "      <th>pickup_latitude</th>\n",
       "      <th>dropoff_longitude</th>\n",
       "      <th>dropoff_latitude</th>\n",
       "      <th>store_and_fwd_flag</th>\n",
       "      <th>trip_duration</th>\n",
       "    </tr>\n",
       "  </thead>\n",
       "  <tbody>\n",
       "    <tr>\n",
       "      <th>0</th>\n",
       "      <td>id2875421</td>\n",
       "      <td>2</td>\n",
       "      <td>2016-03-14 17:24:55</td>\n",
       "      <td>2016-03-14 17:32:30</td>\n",
       "      <td>1</td>\n",
       "      <td>-73.982155</td>\n",
       "      <td>40.767937</td>\n",
       "      <td>-73.964630</td>\n",
       "      <td>40.765602</td>\n",
       "      <td>N</td>\n",
       "      <td>455</td>\n",
       "    </tr>\n",
       "    <tr>\n",
       "      <th>1</th>\n",
       "      <td>id2377394</td>\n",
       "      <td>1</td>\n",
       "      <td>2016-06-12 00:43:35</td>\n",
       "      <td>2016-06-12 00:54:38</td>\n",
       "      <td>1</td>\n",
       "      <td>-73.980415</td>\n",
       "      <td>40.738564</td>\n",
       "      <td>-73.999481</td>\n",
       "      <td>40.731152</td>\n",
       "      <td>N</td>\n",
       "      <td>663</td>\n",
       "    </tr>\n",
       "    <tr>\n",
       "      <th>2</th>\n",
       "      <td>id3858529</td>\n",
       "      <td>2</td>\n",
       "      <td>2016-01-19 11:35:24</td>\n",
       "      <td>2016-01-19 12:10:48</td>\n",
       "      <td>1</td>\n",
       "      <td>-73.979027</td>\n",
       "      <td>40.763939</td>\n",
       "      <td>-74.005333</td>\n",
       "      <td>40.710087</td>\n",
       "      <td>N</td>\n",
       "      <td>2124</td>\n",
       "    </tr>\n",
       "    <tr>\n",
       "      <th>3</th>\n",
       "      <td>id3504673</td>\n",
       "      <td>2</td>\n",
       "      <td>2016-04-06 19:32:31</td>\n",
       "      <td>2016-04-06 19:39:40</td>\n",
       "      <td>1</td>\n",
       "      <td>-74.010040</td>\n",
       "      <td>40.719971</td>\n",
       "      <td>-74.012268</td>\n",
       "      <td>40.706718</td>\n",
       "      <td>N</td>\n",
       "      <td>429</td>\n",
       "    </tr>\n",
       "    <tr>\n",
       "      <th>4</th>\n",
       "      <td>id2181028</td>\n",
       "      <td>2</td>\n",
       "      <td>2016-03-26 13:30:55</td>\n",
       "      <td>2016-03-26 13:38:10</td>\n",
       "      <td>1</td>\n",
       "      <td>-73.973053</td>\n",
       "      <td>40.793209</td>\n",
       "      <td>-73.972923</td>\n",
       "      <td>40.782520</td>\n",
       "      <td>N</td>\n",
       "      <td>435</td>\n",
       "    </tr>\n",
       "  </tbody>\n",
       "</table>\n",
       "</div>"
      ],
      "text/plain": [
       "          id  vendor_id      pickup_datetime     dropoff_datetime  \\\n",
       "0  id2875421          2  2016-03-14 17:24:55  2016-03-14 17:32:30   \n",
       "1  id2377394          1  2016-06-12 00:43:35  2016-06-12 00:54:38   \n",
       "2  id3858529          2  2016-01-19 11:35:24  2016-01-19 12:10:48   \n",
       "3  id3504673          2  2016-04-06 19:32:31  2016-04-06 19:39:40   \n",
       "4  id2181028          2  2016-03-26 13:30:55  2016-03-26 13:38:10   \n",
       "\n",
       "   passenger_count  pickup_longitude  pickup_latitude  dropoff_longitude  \\\n",
       "0                1        -73.982155        40.767937         -73.964630   \n",
       "1                1        -73.980415        40.738564         -73.999481   \n",
       "2                1        -73.979027        40.763939         -74.005333   \n",
       "3                1        -74.010040        40.719971         -74.012268   \n",
       "4                1        -73.973053        40.793209         -73.972923   \n",
       "\n",
       "   dropoff_latitude store_and_fwd_flag  trip_duration  \n",
       "0         40.765602                  N            455  \n",
       "1         40.731152                  N            663  \n",
       "2         40.710087                  N           2124  \n",
       "3         40.706718                  N            429  \n",
       "4         40.782520                  N            435  "
      ]
     },
     "execution_count": 7,
     "metadata": {},
     "output_type": "execute_result"
    }
   ],
   "source": [
    "train.head()"
   ]
  },
  {
   "cell_type": "code",
   "execution_count": 8,
   "metadata": {},
   "outputs": [
    {
     "data": {
      "image/png": "[encoded data removed]",
      "text/plain": [
       "<matplotlib.figure.Figure at 0x7efc211f5fd0>"
      ]
     },
     "metadata": {},
     "output_type": "display_data"
    }
   ],
   "source": [
    "# let's look at the target variable\n",
    "plt.figure(figsize=(8,6))\n",
    "plt.scatter(range(train.shape[0]), np.sort(train[\"trip_duration\"].values/60), alpha=0.2)\n",
    "plt.xlabel('index', fontsize=12)\n",
    "plt.ylabel('trip_duration', fontsize=12)\n",
    "plt.show()"
   ]
  },
  {
   "cell_type": "code",
   "execution_count": 9,
   "metadata": {},
   "outputs": [
    {
     "data": {
      "text/plain": [
       "0.00          1.0\n",
       "0.01         87.0\n",
       "0.25        397.0\n",
       "0.50        662.0\n",
       "0.75       1075.0\n",
       "0.99       3440.0\n",
       "1.00    3526282.0\n",
       "Name: trip_duration, dtype: float64"
      ]
     },
     "execution_count": 9,
     "metadata": {},
     "output_type": "execute_result"
    }
   ],
   "source": [
    "# initial cleaning\n",
    "train[\"trip_duration\"].quantile([.0, 0.01, 0.25, .5, 0.75, 0.99, 1])"
   ]
  },
  {
   "cell_type": "code",
   "execution_count": 10,
   "metadata": {},
   "outputs": [
    {
     "name": "stdout",
     "output_type": "stream",
     "text": [
      "(1446310, 11) (12334, 11)\n"
     ]
    }
   ],
   "source": [
    "# The 99 quantile is 57. 3 minutes \n",
    "# getting rid of trips logger than one hour\n",
    "deleted = train[train[\"trip_duration\"] >= 60*60]\n",
    "train = train[train[\"trip_duration\"] < 60*60]\n",
    "print(train.shape, deleted.shape)"
   ]
  },
  {
   "cell_type": "code",
   "execution_count": 11,
   "metadata": {},
   "outputs": [
    {
     "name": "stdout",
     "output_type": "stream",
     "text": [
      "(1437533, 11)\n"
     ]
    }
   ],
   "source": [
    "# getting rid of trips shorter than one minute\n",
    "train = train[train[\"trip_duration\"] > 60]\n",
    "print(train.shape)"
   ]
  },
  {
   "cell_type": "code",
   "execution_count": 12,
   "metadata": {},
   "outputs": [
    {
     "data": {
      "image/png": "[encoded data removed]",
      "text/plain": [
       "<matplotlib.figure.Figure at 0x7efc70eef2e8>"
      ]
     },
     "metadata": {},
     "output_type": "display_data"
    }
   ],
   "source": [
    "# It may be a good idea to transform the \"y\" variable\n",
    "# Look for a transformation that give you a plot closer to a normal\n",
    "train['log_trip_duration'] = np.log(train['trip_duration'].values + 1)\n",
    "train['sqrt_trip_duration'] = np.sqrt(train['trip_duration'].values)\n",
    "fig, ax = plt.subplots(ncols=3, sharex=False, sharey=False)\n",
    "ax[0].hist(train['trip_duration'].values, bins=200)\n",
    "ax[1].hist(train['log_trip_duration'].values, bins=200)\n",
    "ax[2].hist(train['sqrt_trip_duration'].values, bins=200)\n",
    "ax[0].set_ylabel('number of records')\n",
    "ax[0].set_xlabel('trip_duration')\n",
    "ax[1].set_xlabel('log(trip_duration)')\n",
    "ax[2].set_xlabel('sqrt(trip_duration)')\n",
    "plt.show()"
   ]
  },
  {
   "cell_type": "markdown",
   "metadata": {},
   "source": [
    "## Distance & Speed"
   ]
  },
  {
   "cell_type": "code",
   "execution_count": 13,
   "metadata": {
    "collapsed": true
   },
   "outputs": [],
   "source": [
    "train['pickup_datetime'] = pd.to_datetime(train.pickup_datetime)\n",
    "test['pickup_datetime'] = pd.to_datetime(test.pickup_datetime)"
   ]
  },
  {
   "cell_type": "code",
   "execution_count": 14,
   "metadata": {},
   "outputs": [
    {
     "data": {
      "text/html": [
       "<div>\n",
       "<style>\n",
       "    .dataframe thead tr:only-child th {\n",
       "        text-align: right;\n",
       "    }\n",
       "\n",
       "    .dataframe thead th {\n",
       "        text-align: left;\n",
       "    }\n",
       "\n",
       "    .dataframe tbody tr th {\n",
       "        vertical-align: top;\n",
       "    }\n",
       "</style>\n",
       "<table border=\"1\" class=\"dataframe\">\n",
       "  <thead>\n",
       "    <tr style=\"text-align: right;\">\n",
       "      <th></th>\n",
       "      <th>id</th>\n",
       "      <th>vendor_id</th>\n",
       "      <th>pickup_datetime</th>\n",
       "      <th>dropoff_datetime</th>\n",
       "      <th>passenger_count</th>\n",
       "      <th>pickup_longitude</th>\n",
       "      <th>pickup_latitude</th>\n",
       "      <th>dropoff_longitude</th>\n",
       "      <th>dropoff_latitude</th>\n",
       "      <th>store_and_fwd_flag</th>\n",
       "      <th>trip_duration</th>\n",
       "      <th>log_trip_duration</th>\n",
       "      <th>sqrt_trip_duration</th>\n",
       "    </tr>\n",
       "  </thead>\n",
       "  <tbody>\n",
       "    <tr>\n",
       "      <th>0</th>\n",
       "      <td>id2875421</td>\n",
       "      <td>2</td>\n",
       "      <td>2016-03-14 17:24:55</td>\n",
       "      <td>2016-03-14 17:32:30</td>\n",
       "      <td>1</td>\n",
       "      <td>-73.982155</td>\n",
       "      <td>40.767937</td>\n",
       "      <td>-73.964630</td>\n",
       "      <td>40.765602</td>\n",
       "      <td>N</td>\n",
       "      <td>455</td>\n",
       "      <td>6.122493</td>\n",
       "      <td>21.330729</td>\n",
       "    </tr>\n",
       "    <tr>\n",
       "      <th>1</th>\n",
       "      <td>id2377394</td>\n",
       "      <td>1</td>\n",
       "      <td>2016-06-12 00:43:35</td>\n",
       "      <td>2016-06-12 00:54:38</td>\n",
       "      <td>1</td>\n",
       "      <td>-73.980415</td>\n",
       "      <td>40.738564</td>\n",
       "      <td>-73.999481</td>\n",
       "      <td>40.731152</td>\n",
       "      <td>N</td>\n",
       "      <td>663</td>\n",
       "      <td>6.498282</td>\n",
       "      <td>25.748786</td>\n",
       "    </tr>\n",
       "    <tr>\n",
       "      <th>2</th>\n",
       "      <td>id3858529</td>\n",
       "      <td>2</td>\n",
       "      <td>2016-01-19 11:35:24</td>\n",
       "      <td>2016-01-19 12:10:48</td>\n",
       "      <td>1</td>\n",
       "      <td>-73.979027</td>\n",
       "      <td>40.763939</td>\n",
       "      <td>-74.005333</td>\n",
       "      <td>40.710087</td>\n",
       "      <td>N</td>\n",
       "      <td>2124</td>\n",
       "      <td>7.661527</td>\n",
       "      <td>46.086874</td>\n",
       "    </tr>\n",
       "    <tr>\n",
       "      <th>3</th>\n",
       "      <td>id3504673</td>\n",
       "      <td>2</td>\n",
       "      <td>2016-04-06 19:32:31</td>\n",
       "      <td>2016-04-06 19:39:40</td>\n",
       "      <td>1</td>\n",
       "      <td>-74.010040</td>\n",
       "      <td>40.719971</td>\n",
       "      <td>-74.012268</td>\n",
       "      <td>40.706718</td>\n",
       "      <td>N</td>\n",
       "      <td>429</td>\n",
       "      <td>6.063785</td>\n",
       "      <td>20.712315</td>\n",
       "    </tr>\n",
       "    <tr>\n",
       "      <th>4</th>\n",
       "      <td>id2181028</td>\n",
       "      <td>2</td>\n",
       "      <td>2016-03-26 13:30:55</td>\n",
       "      <td>2016-03-26 13:38:10</td>\n",
       "      <td>1</td>\n",
       "      <td>-73.973053</td>\n",
       "      <td>40.793209</td>\n",
       "      <td>-73.972923</td>\n",
       "      <td>40.782520</td>\n",
       "      <td>N</td>\n",
       "      <td>435</td>\n",
       "      <td>6.077642</td>\n",
       "      <td>20.856654</td>\n",
       "    </tr>\n",
       "  </tbody>\n",
       "</table>\n",
       "</div>"
      ],
      "text/plain": [
       "          id  vendor_id     pickup_datetime     dropoff_datetime  \\\n",
       "0  id2875421          2 2016-03-14 17:24:55  2016-03-14 17:32:30   \n",
       "1  id2377394          1 2016-06-12 00:43:35  2016-06-12 00:54:38   \n",
       "2  id3858529          2 2016-01-19 11:35:24  2016-01-19 12:10:48   \n",
       "3  id3504673          2 2016-04-06 19:32:31  2016-04-06 19:39:40   \n",
       "4  id2181028          2 2016-03-26 13:30:55  2016-03-26 13:38:10   \n",
       "\n",
       "   passenger_count  pickup_longitude  pickup_latitude  dropoff_longitude  \\\n",
       "0                1        -73.982155        40.767937         -73.964630   \n",
       "1                1        -73.980415        40.738564         -73.999481   \n",
       "2                1        -73.979027        40.763939         -74.005333   \n",
       "3                1        -74.010040        40.719971         -74.012268   \n",
       "4                1        -73.973053        40.793209         -73.972923   \n",
       "\n",
       "   dropoff_latitude store_and_fwd_flag  trip_duration  log_trip_duration  \\\n",
       "0         40.765602                  N            455           6.122493   \n",
       "1         40.731152                  N            663           6.498282   \n",
       "2         40.710087                  N           2124           7.661527   \n",
       "3         40.706718                  N            429           6.063785   \n",
       "4         40.782520                  N            435           6.077642   \n",
       "\n",
       "   sqrt_trip_duration  \n",
       "0           21.330729  \n",
       "1           25.748786  \n",
       "2           46.086874  \n",
       "3           20.712315  \n",
       "4           20.856654  "
      ]
     },
     "execution_count": 14,
     "metadata": {},
     "output_type": "execute_result"
    }
   ],
   "source": [
    "train.head()"
   ]
  },
  {
   "cell_type": "code",
   "execution_count": 15,
   "metadata": {
    "collapsed": true
   },
   "outputs": [],
   "source": [
    "# this formulas accepts nump arrays\n",
    "from math import radians, cos, sin, asin, sqrt\n",
    "\n",
    "def L2_distance(lon1, lat1, lon2, lat2):\n",
    "    \"\"\"\n",
    "    \"\"\"\n",
    "    dlon = (lon2 - lon1)**2 \n",
    "    dlat = (lat2 - lat1)**2\n",
    "    return 1000*np.sqrt(dlon + dlat)"
   ]
  },
  {
   "cell_type": "code",
   "execution_count": 16,
   "metadata": {
    "collapsed": true
   },
   "outputs": [],
   "source": [
    "def compute_distance(df):\n",
    "    lon1 = df['pickup_longitude'].values\n",
    "    lat1 = df['pickup_latitude'].values\n",
    "    lon2 = df['dropoff_longitude'].values\n",
    "    lat2 = df['dropoff_latitude'].values\n",
    "    return L2_distance(lon1, lat1, lon2, lat2)"
   ]
  },
  {
   "cell_type": "code",
   "execution_count": 17,
   "metadata": {},
   "outputs": [],
   "source": [
    "train['distance'] = compute_distance(train)\n",
    "test['distance'] = compute_distance(test)"
   ]
  },
  {
   "cell_type": "code",
   "execution_count": 18,
   "metadata": {},
   "outputs": [
    {
     "data": {
      "text/html": [
       "<div>\n",
       "<style>\n",
       "    .dataframe thead tr:only-child th {\n",
       "        text-align: right;\n",
       "    }\n",
       "\n",
       "    .dataframe thead th {\n",
       "        text-align: left;\n",
       "    }\n",
       "\n",
       "    .dataframe tbody tr th {\n",
       "        vertical-align: top;\n",
       "    }\n",
       "</style>\n",
       "<table border=\"1\" class=\"dataframe\">\n",
       "  <thead>\n",
       "    <tr style=\"text-align: right;\">\n",
       "      <th></th>\n",
       "      <th>vendor_id</th>\n",
       "      <th>passenger_count</th>\n",
       "      <th>pickup_longitude</th>\n",
       "      <th>pickup_latitude</th>\n",
       "      <th>dropoff_longitude</th>\n",
       "      <th>dropoff_latitude</th>\n",
       "      <th>trip_duration</th>\n",
       "      <th>log_trip_duration</th>\n",
       "      <th>sqrt_trip_duration</th>\n",
       "      <th>distance</th>\n",
       "    </tr>\n",
       "  </thead>\n",
       "  <tbody>\n",
       "    <tr>\n",
       "      <th>count</th>\n",
       "      <td>1.437533e+06</td>\n",
       "      <td>1.437533e+06</td>\n",
       "      <td>1.437533e+06</td>\n",
       "      <td>1.437533e+06</td>\n",
       "      <td>1.437533e+06</td>\n",
       "      <td>1.437533e+06</td>\n",
       "      <td>1.437533e+06</td>\n",
       "      <td>1.437533e+06</td>\n",
       "      <td>1.437533e+06</td>\n",
       "      <td>1.437533e+06</td>\n",
       "    </tr>\n",
       "    <tr>\n",
       "      <th>mean</th>\n",
       "      <td>1.534866e+00</td>\n",
       "      <td>1.664864e+00</td>\n",
       "      <td>-7.397428e+01</td>\n",
       "      <td>4.075131e+01</td>\n",
       "      <td>-7.397384e+01</td>\n",
       "      <td>4.075206e+01</td>\n",
       "      <td>8.164712e+02</td>\n",
       "      <td>6.467043e+00</td>\n",
       "      <td>2.696299e+01</td>\n",
       "      <td>3.453177e+01</td>\n",
       "    </tr>\n",
       "    <tr>\n",
       "      <th>std</th>\n",
       "      <td>4.987830e-01</td>\n",
       "      <td>1.314656e+00</td>\n",
       "      <td>6.997894e-02</td>\n",
       "      <td>3.208705e-02</td>\n",
       "      <td>6.993927e-02</td>\n",
       "      <td>3.521628e-02</td>\n",
       "      <td>5.833988e+02</td>\n",
       "      <td>7.126500e-01</td>\n",
       "      <td>9.458772e+00</td>\n",
       "      <td>4.354683e+01</td>\n",
       "    </tr>\n",
       "    <tr>\n",
       "      <th>min</th>\n",
       "      <td>1.000000e+00</td>\n",
       "      <td>0.000000e+00</td>\n",
       "      <td>-1.219333e+02</td>\n",
       "      <td>3.435970e+01</td>\n",
       "      <td>-1.219333e+02</td>\n",
       "      <td>3.218114e+01</td>\n",
       "      <td>6.100000e+01</td>\n",
       "      <td>4.127134e+00</td>\n",
       "      <td>7.810250e+00</td>\n",
       "      <td>0.000000e+00</td>\n",
       "    </tr>\n",
       "    <tr>\n",
       "      <th>25%</th>\n",
       "      <td>1.000000e+00</td>\n",
       "      <td>1.000000e+00</td>\n",
       "      <td>-7.399191e+01</td>\n",
       "      <td>4.073762e+01</td>\n",
       "      <td>-7.399133e+01</td>\n",
       "      <td>4.073617e+01</td>\n",
       "      <td>3.990000e+02</td>\n",
       "      <td>5.991465e+00</td>\n",
       "      <td>1.997498e+01</td>\n",
       "      <td>1.266764e+01</td>\n",
       "    </tr>\n",
       "    <tr>\n",
       "      <th>50%</th>\n",
       "      <td>2.000000e+00</td>\n",
       "      <td>1.000000e+00</td>\n",
       "      <td>-7.398182e+01</td>\n",
       "      <td>4.075424e+01</td>\n",
       "      <td>-7.397979e+01</td>\n",
       "      <td>4.075462e+01</td>\n",
       "      <td>6.610000e+02</td>\n",
       "      <td>6.495266e+00</td>\n",
       "      <td>2.570992e+01</td>\n",
       "      <td>2.119937e+01</td>\n",
       "    </tr>\n",
       "    <tr>\n",
       "      <th>75%</th>\n",
       "      <td>2.000000e+00</td>\n",
       "      <td>2.000000e+00</td>\n",
       "      <td>-7.396768e+01</td>\n",
       "      <td>4.076840e+01</td>\n",
       "      <td>-7.396322e+01</td>\n",
       "      <td>4.076989e+01</td>\n",
       "      <td>1.064000e+03</td>\n",
       "      <td>6.970730e+00</td>\n",
       "      <td>3.261901e+01</td>\n",
       "      <td>3.797385e+01</td>\n",
       "    </tr>\n",
       "    <tr>\n",
       "      <th>max</th>\n",
       "      <td>2.000000e+00</td>\n",
       "      <td>9.000000e+00</td>\n",
       "      <td>-6.133553e+01</td>\n",
       "      <td>5.188108e+01</td>\n",
       "      <td>-6.133553e+01</td>\n",
       "      <td>4.392103e+01</td>\n",
       "      <td>3.599000e+03</td>\n",
       "      <td>8.188689e+00</td>\n",
       "      <td>5.999167e+01</td>\n",
       "      <td>1.119260e+04</td>\n",
       "    </tr>\n",
       "  </tbody>\n",
       "</table>\n",
       "</div>"
      ],
      "text/plain": [
       "          vendor_id  passenger_count  pickup_longitude  pickup_latitude  \\\n",
       "count  1.437533e+06     1.437533e+06      1.437533e+06     1.437533e+06   \n",
       "mean   1.534866e+00     1.664864e+00     -7.397428e+01     4.075131e+01   \n",
       "std    4.987830e-01     1.314656e+00      6.997894e-02     3.208705e-02   \n",
       "min    1.000000e+00     0.000000e+00     -1.219333e+02     3.435970e+01   \n",
       "25%    1.000000e+00     1.000000e+00     -7.399191e+01     4.073762e+01   \n",
       "50%    2.000000e+00     1.000000e+00     -7.398182e+01     4.075424e+01   \n",
       "75%    2.000000e+00     2.000000e+00     -7.396768e+01     4.076840e+01   \n",
       "max    2.000000e+00     9.000000e+00     -6.133553e+01     5.188108e+01   \n",
       "\n",
       "       dropoff_longitude  dropoff_latitude  trip_duration  log_trip_duration  \\\n",
       "count       1.437533e+06      1.437533e+06   1.437533e+06       1.437533e+06   \n",
       "mean       -7.397384e+01      4.075206e+01   8.164712e+02       6.467043e+00   \n",
       "std         6.993927e-02      3.521628e-02   5.833988e+02       7.126500e-01   \n",
       "min        -1.219333e+02      3.218114e+01   6.100000e+01       4.127134e+00   \n",
       "25%        -7.399133e+01      4.073617e+01   3.990000e+02       5.991465e+00   \n",
       "50%        -7.397979e+01      4.075462e+01   6.610000e+02       6.495266e+00   \n",
       "75%        -7.396322e+01      4.076989e+01   1.064000e+03       6.970730e+00   \n",
       "max        -6.133553e+01      4.392103e+01   3.599000e+03       8.188689e+00   \n",
       "\n",
       "       sqrt_trip_duration      distance  \n",
       "count        1.437533e+06  1.437533e+06  \n",
       "mean         2.696299e+01  3.453177e+01  \n",
       "std          9.458772e+00  4.354683e+01  \n",
       "min          7.810250e+00  0.000000e+00  \n",
       "25%          1.997498e+01  1.266764e+01  \n",
       "50%          2.570992e+01  2.119937e+01  \n",
       "75%          3.261901e+01  3.797385e+01  \n",
       "max          5.999167e+01  1.119260e+04  "
      ]
     },
     "execution_count": 18,
     "metadata": {},
     "output_type": "execute_result"
    }
   ],
   "source": [
    "train.describe()"
   ]
  },
  {
   "cell_type": "code",
   "execution_count": 19,
   "metadata": {},
   "outputs": [
    {
     "data": {
      "image/png": "[encoded data removed]",
      "text/plain": [
       "<matplotlib.figure.Figure at 0x7efc1f82c6d8>"
      ]
     },
     "metadata": {},
     "output_type": "display_data"
    },
    {
     "data": {
      "text/plain": [
       "array([[ 1.        ,  0.74082196],\n",
       "       [ 0.74082196,  1.        ]])"
      ]
     },
     "execution_count": 19,
     "metadata": {},
     "output_type": "execute_result"
    }
   ],
   "source": [
    "y = train['trip_duration'][:2000]/60\n",
    "x = train['distance'][:2000]\n",
    "plt.scatter(x, y, alpha=0.2)\n",
    "plt.xlabel('trip_duration')\n",
    "plt.ylabel('distance')\n",
    "plt.show()\n",
    "np.corrcoef(x,y)"
   ]
  },
  {
   "cell_type": "code",
   "execution_count": 20,
   "metadata": {
    "collapsed": true
   },
   "outputs": [],
   "source": [
    "# ?miles an hour\n",
    "train[\"speed\"] = train[\"distance\"]/ (train[\"trip_duration\"] / 360.0)"
   ]
  },
  {
   "cell_type": "markdown",
   "metadata": {},
   "source": [
    "Note that 'speed' is not a feature since it needs trip duration which is the target variable.\n",
    "We are using it just as part of our exploration"
   ]
  },
  {
   "cell_type": "code",
   "execution_count": 21,
   "metadata": {},
   "outputs": [
    {
     "data": {
      "image/png": "[encoded data removed]",
      "text/plain": [
       "<matplotlib.figure.Figure at 0x7efc07ad6cf8>"
      ]
     },
     "metadata": {},
     "output_type": "display_data"
    }
   ],
   "source": [
    "plt.boxplot(train['speed'])\n",
    "plt.show()"
   ]
  },
  {
   "cell_type": "code",
   "execution_count": 22,
   "metadata": {},
   "outputs": [
    {
     "data": {
      "text/plain": [
       "0.000       0.000000\n",
       "0.250       9.314723\n",
       "0.500      12.944786\n",
       "0.750      17.937170\n",
       "0.999      55.765426\n",
       "1.000    6749.747037\n",
       "Name: speed, dtype: float64"
      ]
     },
     "execution_count": 22,
     "metadata": {},
     "output_type": "execute_result"
    }
   ],
   "source": [
    "# some more cleaning here\n",
    "train['speed'].quantile([.0, 0.25, .5, 0.75, 0.999, 1])"
   ]
  },
  {
   "cell_type": "code",
   "execution_count": 23,
   "metadata": {
    "collapsed": true
   },
   "outputs": [],
   "source": [
    "train = train[train['speed'] < 60]"
   ]
  },
  {
   "cell_type": "code",
   "execution_count": 24,
   "metadata": {},
   "outputs": [
    {
     "data": {
      "text/plain": [
       "(1436884, 15)"
      ]
     },
     "execution_count": 24,
     "metadata": {},
     "output_type": "execute_result"
    }
   ],
   "source": [
    "train.shape"
   ]
  },
  {
   "cell_type": "markdown",
   "metadata": {},
   "source": [
    "## Time features"
   ]
  },
  {
   "cell_type": "markdown",
   "metadata": {},
   "source": [
    "We will define some time features. By plotting every feature agains the \"trip_duration\" or \"speed\" we will be able to see if there is any useful correlations. "
   ]
  },
  {
   "cell_type": "code",
   "execution_count": 25,
   "metadata": {},
   "outputs": [],
   "source": [
    "def get_time_features(df):\n",
    "    df['pickup_weekday'] = df['pickup_datetime'].dt.weekday\n",
    "    df['pickup_weekofyear'] = df['pickup_datetime'].dt.weekofyear\n",
    "    df['pickup_hour'] = df['pickup_datetime'].dt.hour\n",
    "    df['pickup_week_hour'] = df['pickup_weekday'] * 24 + df['pickup_hour']\n",
    "    return df"
   ]
  },
  {
   "cell_type": "code",
   "execution_count": 26,
   "metadata": {
    "collapsed": true
   },
   "outputs": [],
   "source": [
    "train = get_time_features(train)\n",
    "test = get_time_features(test)"
   ]
  },
  {
   "cell_type": "code",
   "execution_count": 27,
   "metadata": {},
   "outputs": [
    {
     "data": {
      "text/plain": [
       "<matplotlib.axes._subplots.AxesSubplot at 0x7efc1e4845f8>"
      ]
     },
     "execution_count": 27,
     "metadata": {},
     "output_type": "execute_result"
    },
    {
     "data": {
      "image/png": "[encoded data removed]",
      "text/plain": [
       "<matplotlib.figure.Figure at 0x7efc0c31fac8>"
      ]
     },
     "metadata": {},
     "output_type": "display_data"
    }
   ],
   "source": [
    "metric = 'pickup_hour'\n",
    "y = 'speed'\n",
    "train.boxplot(column=y, by=[metric])"
   ]
  },
  {
   "cell_type": "markdown",
   "metadata": {},
   "source": [
    "Looks like speed is lower in the middle of the day which makes pickup hour a likely useful feature.\n",
    "\n",
    "Plot other features. Do they seem useful?"
   ]
  },
  {
   "cell_type": "markdown",
   "metadata": {
    "collapsed": true
   },
   "source": [
    "## Clustering based on lat and long"
   ]
  },
  {
   "cell_type": "code",
   "execution_count": 28,
   "metadata": {
    "collapsed": true
   },
   "outputs": [],
   "source": [
    "places = np.vstack((train[['pickup_latitude', 'pickup_longitude']].values,\n",
    "                    train[['dropoff_latitude', 'dropoff_longitude']].values))"
   ]
  },
  {
   "cell_type": "code",
   "execution_count": 29,
   "metadata": {},
   "outputs": [
    {
     "data": {
      "text/plain": [
       "(2873768, 2)"
      ]
     },
     "execution_count": 29,
     "metadata": {},
     "output_type": "execute_result"
    }
   ],
   "source": [
    "places.shape"
   ]
  },
  {
   "cell_type": "code",
   "execution_count": 30,
   "metadata": {
    "collapsed": true
   },
   "outputs": [],
   "source": [
    "kmeans = MiniBatchKMeans(n_clusters=100, batch_size=10000).fit(places)"
   ]
  },
  {
   "cell_type": "code",
   "execution_count": 31,
   "metadata": {},
   "outputs": [],
   "source": [
    "# here the new features is the id of the cluster\n",
    "train['pickup_cluster'] = kmeans.predict(train[['pickup_latitude', 'pickup_longitude']])\n",
    "train['dropoff_cluster'] = kmeans.predict(train[['dropoff_latitude', 'dropoff_longitude']])\n",
    "test['pickup_cluster'] = kmeans.predict(test[['pickup_latitude', 'pickup_longitude']])\n",
    "test['dropoff_cluster'] = kmeans.predict(test[['dropoff_latitude', 'dropoff_longitude']])"
   ]
  },
  {
   "cell_type": "code",
   "execution_count": 32,
   "metadata": {},
   "outputs": [
    {
     "data": {
      "image/png": "[encoded data removed]",
      "text/plain": [
       "<matplotlib.figure.Figure at 0x7efc206ce5f8>"
      ]
     },
     "metadata": {},
     "output_type": "display_data"
    }
   ],
   "source": [
    "N = 100000\n",
    "city_long_border = (-74.03, -73.75)\n",
    "city_lat_border = (40.63, 40.85)\n",
    "fig, ax = plt.subplots(ncols=1, nrows=1)\n",
    "ax.scatter(train.pickup_longitude.values[:N], train.pickup_latitude.values[:N], s=10, lw=0,\n",
    "           c=train.pickup_cluster[:N].values, cmap='tab20', alpha=0.2)\n",
    "ax.set_xlim(city_long_border)\n",
    "ax.set_ylim(city_lat_border)\n",
    "ax.set_xlabel('Longitude')\n",
    "ax.set_ylabel('Latitude')\n",
    "plt.show()\n",
    "#There are some weird outliers here"
   ]
  },
  {
   "cell_type": "markdown",
   "metadata": {},
   "source": [
    "## Split train and validation"
   ]
  },
  {
   "cell_type": "code",
   "execution_count": 33,
   "metadata": {},
   "outputs": [
    {
     "name": "stdout",
     "output_type": "stream",
     "text": [
      "(1132432, 21) (304452, 21)\n"
     ]
    }
   ],
   "source": [
    "# split train and validation\n",
    "np.random.seed(3)\n",
    "n = train.shape[0]\n",
    "inx = np.random.permutation(n)\n",
    "n_sample = int(0.8*n)\n",
    "train_set = train[train.index.isin(inx[:n_sample])]\n",
    "val_set = train[~train.index.isin(inx[:n_sample])]\n",
    "print(train_set.shape, val_set.shape)"
   ]
  },
  {
   "cell_type": "markdown",
   "metadata": {},
   "source": [
    "## Target Encoding"
   ]
  },
  {
   "cell_type": "markdown",
   "metadata": {},
   "source": [
    "Here is an example of what is called 'Target Encoding'. The idea here is given a categorical variable, create a new variable that is the mean each categorical value variable in the training data. \n",
    "\n",
    "Note that I divided the train and validation sets before doing this. Since the computation of these involve the target variable, we do it in the training and transfer it to the test/ validation sets."
   ]
  },
  {
   "cell_type": "code",
   "execution_count": 34,
   "metadata": {},
   "outputs": [
    {
     "data": {
      "text/html": [
       "<div>\n",
       "<style>\n",
       "    .dataframe thead tr:only-child th {\n",
       "        text-align: right;\n",
       "    }\n",
       "\n",
       "    .dataframe thead th {\n",
       "        text-align: left;\n",
       "    }\n",
       "\n",
       "    .dataframe tbody tr th {\n",
       "        vertical-align: top;\n",
       "    }\n",
       "</style>\n",
       "<table border=\"1\" class=\"dataframe\">\n",
       "  <thead>\n",
       "    <tr style=\"text-align: right;\">\n",
       "      <th></th>\n",
       "      <th>speed_gby_pickup_weekday</th>\n",
       "      <th>log_trip_duration_gby_pickup_weekday</th>\n",
       "    </tr>\n",
       "    <tr>\n",
       "      <th>pickup_weekday</th>\n",
       "      <th></th>\n",
       "      <th></th>\n",
       "    </tr>\n",
       "  </thead>\n",
       "  <tbody>\n",
       "    <tr>\n",
       "      <th>0</th>\n",
       "      <td>15.339333</td>\n",
       "      <td>6.428681</td>\n",
       "    </tr>\n",
       "    <tr>\n",
       "      <th>1</th>\n",
       "      <td>13.943331</td>\n",
       "      <td>6.491490</td>\n",
       "    </tr>\n",
       "    <tr>\n",
       "      <th>2</th>\n",
       "      <td>13.678195</td>\n",
       "      <td>6.510132</td>\n",
       "    </tr>\n",
       "    <tr>\n",
       "      <th>3</th>\n",
       "      <td>13.633336</td>\n",
       "      <td>6.525696</td>\n",
       "    </tr>\n",
       "    <tr>\n",
       "      <th>4</th>\n",
       "      <td>13.956837</td>\n",
       "      <td>6.494949</td>\n",
       "    </tr>\n",
       "    <tr>\n",
       "      <th>5</th>\n",
       "      <td>15.100131</td>\n",
       "      <td>6.425129</td>\n",
       "    </tr>\n",
       "    <tr>\n",
       "      <th>6</th>\n",
       "      <td>16.934209</td>\n",
       "      <td>6.384738</td>\n",
       "    </tr>\n",
       "  </tbody>\n",
       "</table>\n",
       "</div>"
      ],
      "text/plain": [
       "                speed_gby_pickup_weekday  log_trip_duration_gby_pickup_weekday\n",
       "pickup_weekday                                                                \n",
       "0                              15.339333                              6.428681\n",
       "1                              13.943331                              6.491490\n",
       "2                              13.678195                              6.510132\n",
       "3                              13.633336                              6.525696\n",
       "4                              13.956837                              6.494949\n",
       "5                              15.100131                              6.425129\n",
       "6                              16.934209                              6.384738"
      ]
     },
     "execution_count": 34,
     "metadata": {},
     "output_type": "execute_result"
    }
   ],
   "source": [
    "col = 'pickup_weekday'\n",
    "gby = train_set.groupby(col).mean()[['speed', 'log_trip_duration']]\n",
    "gby.columns = ['%s_gby_%s' % (c, col) for c in gby.columns]\n",
    "gby"
   ]
  },
  {
   "cell_type": "code",
   "execution_count": 35,
   "metadata": {},
   "outputs": [],
   "source": [
    "for col in ['pickup_weekday', 'pickup_weekofyear', 'pickup_hour',\n",
    "       'pickup_week_hour', 'pickup_cluster', 'dropoff_cluster']:\n",
    "    gby = train_set.groupby(col).mean()[['speed', 'log_trip_duration']]\n",
    "    gby.columns = ['%s_gby_%s' % (c, col) for c in gby.columns]\n",
    "    train_set = pd.merge(train_set, gby, how='left', left_on=col, right_index=True)\n",
    "    val_set = pd.merge(val_set, gby, how='left', left_on=col, right_index=True)\n",
    "    test = pd.merge(test, gby, how='left', left_on=col, right_index=True)"
   ]
  },
  {
   "cell_type": "code",
   "execution_count": 36,
   "metadata": {},
   "outputs": [
    {
     "data": {
      "text/html": [
       "<div>\n",
       "<style>\n",
       "    .dataframe thead tr:only-child th {\n",
       "        text-align: right;\n",
       "    }\n",
       "\n",
       "    .dataframe thead th {\n",
       "        text-align: left;\n",
       "    }\n",
       "\n",
       "    .dataframe tbody tr th {\n",
       "        vertical-align: top;\n",
       "    }\n",
       "</style>\n",
       "<table border=\"1\" class=\"dataframe\">\n",
       "  <thead>\n",
       "    <tr style=\"text-align: right;\">\n",
       "      <th></th>\n",
       "      <th>id</th>\n",
       "      <th>vendor_id</th>\n",
       "      <th>pickup_datetime</th>\n",
       "      <th>dropoff_datetime</th>\n",
       "      <th>passenger_count</th>\n",
       "      <th>pickup_longitude</th>\n",
       "      <th>pickup_latitude</th>\n",
       "      <th>dropoff_longitude</th>\n",
       "      <th>dropoff_latitude</th>\n",
       "      <th>store_and_fwd_flag</th>\n",
       "      <th>...</th>\n",
       "      <th>speed_gby_pickup_weekofyear</th>\n",
       "      <th>log_trip_duration_gby_pickup_weekofyear</th>\n",
       "      <th>speed_gby_pickup_hour</th>\n",
       "      <th>log_trip_duration_gby_pickup_hour</th>\n",
       "      <th>speed_gby_pickup_week_hour</th>\n",
       "      <th>log_trip_duration_gby_pickup_week_hour</th>\n",
       "      <th>speed_gby_pickup_cluster</th>\n",
       "      <th>log_trip_duration_gby_pickup_cluster</th>\n",
       "      <th>speed_gby_dropoff_cluster</th>\n",
       "      <th>log_trip_duration_gby_dropoff_cluster</th>\n",
       "    </tr>\n",
       "  </thead>\n",
       "  <tbody>\n",
       "    <tr>\n",
       "      <th>0</th>\n",
       "      <td>id2875421</td>\n",
       "      <td>2</td>\n",
       "      <td>2016-03-14 17:24:55</td>\n",
       "      <td>2016-03-14 17:32:30</td>\n",
       "      <td>1</td>\n",
       "      <td>-73.982155</td>\n",
       "      <td>40.767937</td>\n",
       "      <td>-73.964630</td>\n",
       "      <td>40.765602</td>\n",
       "      <td>N</td>\n",
       "      <td>...</td>\n",
       "      <td>14.665374</td>\n",
       "      <td>6.457115</td>\n",
       "      <td>12.609901</td>\n",
       "      <td>6.520541</td>\n",
       "      <td>13.201231</td>\n",
       "      <td>6.457985</td>\n",
       "      <td>13.103944</td>\n",
       "      <td>6.416330</td>\n",
       "      <td>11.946911</td>\n",
       "      <td>6.380651</td>\n",
       "    </tr>\n",
       "    <tr>\n",
       "      <th>2</th>\n",
       "      <td>id3858529</td>\n",
       "      <td>2</td>\n",
       "      <td>2016-01-19 11:35:24</td>\n",
       "      <td>2016-01-19 12:10:48</td>\n",
       "      <td>1</td>\n",
       "      <td>-73.979027</td>\n",
       "      <td>40.763939</td>\n",
       "      <td>-74.005333</td>\n",
       "      <td>40.710087</td>\n",
       "      <td>N</td>\n",
       "      <td>...</td>\n",
       "      <td>14.559002</td>\n",
       "      <td>6.422254</td>\n",
       "      <td>12.628164</td>\n",
       "      <td>6.522402</td>\n",
       "      <td>10.902781</td>\n",
       "      <td>6.643997</td>\n",
       "      <td>12.702979</td>\n",
       "      <td>6.550142</td>\n",
       "      <td>16.330556</td>\n",
       "      <td>6.733234</td>\n",
       "    </tr>\n",
       "    <tr>\n",
       "      <th>3</th>\n",
       "      <td>id3504673</td>\n",
       "      <td>2</td>\n",
       "      <td>2016-04-06 19:32:31</td>\n",
       "      <td>2016-04-06 19:39:40</td>\n",
       "      <td>1</td>\n",
       "      <td>-74.010040</td>\n",
       "      <td>40.719971</td>\n",
       "      <td>-74.012268</td>\n",
       "      <td>40.706718</td>\n",
       "      <td>N</td>\n",
       "      <td>...</td>\n",
       "      <td>14.277489</td>\n",
       "      <td>6.470075</td>\n",
       "      <td>13.751587</td>\n",
       "      <td>6.447591</td>\n",
       "      <td>13.211405</td>\n",
       "      <td>6.462718</td>\n",
       "      <td>14.146695</td>\n",
       "      <td>6.546265</td>\n",
       "      <td>17.596156</td>\n",
       "      <td>6.715925</td>\n",
       "    </tr>\n",
       "    <tr>\n",
       "      <th>4</th>\n",
       "      <td>id2181028</td>\n",
       "      <td>2</td>\n",
       "      <td>2016-03-26 13:30:55</td>\n",
       "      <td>2016-03-26 13:38:10</td>\n",
       "      <td>1</td>\n",
       "      <td>-73.973053</td>\n",
       "      <td>40.793209</td>\n",
       "      <td>-73.972923</td>\n",
       "      <td>40.782520</td>\n",
       "      <td>N</td>\n",
       "      <td>...</td>\n",
       "      <td>15.238559</td>\n",
       "      <td>6.439426</td>\n",
       "      <td>12.641380</td>\n",
       "      <td>6.535755</td>\n",
       "      <td>13.559827</td>\n",
       "      <td>6.443439</td>\n",
       "      <td>15.924281</td>\n",
       "      <td>6.262260</td>\n",
       "      <td>15.087308</td>\n",
       "      <td>6.257057</td>\n",
       "    </tr>\n",
       "    <tr>\n",
       "      <th>6</th>\n",
       "      <td>id1813257</td>\n",
       "      <td>1</td>\n",
       "      <td>2016-06-17 22:34:59</td>\n",
       "      <td>2016-06-17 22:40:40</td>\n",
       "      <td>4</td>\n",
       "      <td>-73.969017</td>\n",
       "      <td>40.757839</td>\n",
       "      <td>-73.957405</td>\n",
       "      <td>40.765896</td>\n",
       "      <td>N</td>\n",
       "      <td>...</td>\n",
       "      <td>14.496447</td>\n",
       "      <td>6.496825</td>\n",
       "      <td>16.214178</td>\n",
       "      <td>6.472372</td>\n",
       "      <td>14.712484</td>\n",
       "      <td>6.514195</td>\n",
       "      <td>15.084456</td>\n",
       "      <td>6.361524</td>\n",
       "      <td>14.138547</td>\n",
       "      <td>6.318710</td>\n",
       "    </tr>\n",
       "  </tbody>\n",
       "</table>\n",
       "<p>5 rows × 33 columns</p>\n",
       "</div>"
      ],
      "text/plain": [
       "          id  vendor_id     pickup_datetime     dropoff_datetime  \\\n",
       "0  id2875421          2 2016-03-14 17:24:55  2016-03-14 17:32:30   \n",
       "2  id3858529          2 2016-01-19 11:35:24  2016-01-19 12:10:48   \n",
       "3  id3504673          2 2016-04-06 19:32:31  2016-04-06 19:39:40   \n",
       "4  id2181028          2 2016-03-26 13:30:55  2016-03-26 13:38:10   \n",
       "6  id1813257          1 2016-06-17 22:34:59  2016-06-17 22:40:40   \n",
       "\n",
       "   passenger_count  pickup_longitude  pickup_latitude  dropoff_longitude  \\\n",
       "0                1        -73.982155        40.767937         -73.964630   \n",
       "2                1        -73.979027        40.763939         -74.005333   \n",
       "3                1        -74.010040        40.719971         -74.012268   \n",
       "4                1        -73.973053        40.793209         -73.972923   \n",
       "6                4        -73.969017        40.757839         -73.957405   \n",
       "\n",
       "   dropoff_latitude store_and_fwd_flag                  ...                    \\\n",
       "0         40.765602                  N                  ...                     \n",
       "2         40.710087                  N                  ...                     \n",
       "3         40.706718                  N                  ...                     \n",
       "4         40.782520                  N                  ...                     \n",
       "6         40.765896                  N                  ...                     \n",
       "\n",
       "   speed_gby_pickup_weekofyear  log_trip_duration_gby_pickup_weekofyear  \\\n",
       "0                    14.665374                                 6.457115   \n",
       "2                    14.559002                                 6.422254   \n",
       "3                    14.277489                                 6.470075   \n",
       "4                    15.238559                                 6.439426   \n",
       "6                    14.496447                                 6.496825   \n",
       "\n",
       "   speed_gby_pickup_hour  log_trip_duration_gby_pickup_hour  \\\n",
       "0              12.609901                           6.520541   \n",
       "2              12.628164                           6.522402   \n",
       "3              13.751587                           6.447591   \n",
       "4              12.641380                           6.535755   \n",
       "6              16.214178                           6.472372   \n",
       "\n",
       "   speed_gby_pickup_week_hour  log_trip_duration_gby_pickup_week_hour  \\\n",
       "0                   13.201231                                6.457985   \n",
       "2                   10.902781                                6.643997   \n",
       "3                   13.211405                                6.462718   \n",
       "4                   13.559827                                6.443439   \n",
       "6                   14.712484                                6.514195   \n",
       "\n",
       "   speed_gby_pickup_cluster  log_trip_duration_gby_pickup_cluster  \\\n",
       "0                 13.103944                              6.416330   \n",
       "2                 12.702979                              6.550142   \n",
       "3                 14.146695                              6.546265   \n",
       "4                 15.924281                              6.262260   \n",
       "6                 15.084456                              6.361524   \n",
       "\n",
       "   speed_gby_dropoff_cluster  log_trip_duration_gby_dropoff_cluster  \n",
       "0                  11.946911                               6.380651  \n",
       "2                  16.330556                               6.733234  \n",
       "3                  17.596156                               6.715925  \n",
       "4                  15.087308                               6.257057  \n",
       "6                  14.138547                               6.318710  \n",
       "\n",
       "[5 rows x 33 columns]"
      ]
     },
     "execution_count": 36,
     "metadata": {},
     "output_type": "execute_result"
    }
   ],
   "source": [
    "train_set.head()"
   ]
  },
  {
   "cell_type": "code",
   "execution_count": 37,
   "metadata": {},
   "outputs": [],
   "source": [
    "# More 'target encoding' and 'count encoding'\n",
    "for cols in [['pickup_hour', 'pickup_cluster'],\n",
    "                 ['pickup_hour', 'dropoff_cluster'],\n",
    "                 ['pickup_cluster', 'dropoff_cluster']]:\n",
    "    speed = train_set.groupby(cols).mean()[['speed']].reset_index()\n",
    "    count = train.groupby(cols).count()[['id']].reset_index()\n",
    "    stats = pd.merge(speed, count, on=cols)\n",
    "    stats = stats[stats['id'] > 100]\n",
    "    stats.columns = cols + ['speed_%s' % '_'.join(cols), 'cnt_%s' %  '_'.join(cols)]\n",
    "    train_set = pd.merge(train_set, stats, how='left', on=cols)\n",
    "    val_set = pd.merge(val_set, stats, how='left', on=cols)\n",
    "    test = pd.merge(test, stats, how='left', on=cols)"
   ]
  },
  {
   "cell_type": "code",
   "execution_count": 38,
   "metadata": {},
   "outputs": [
    {
     "data": {
      "text/plain": [
       "['speed_pickup_hour_pickup_cluster',\n",
       " 'cnt_pickup_hour_pickup_cluster',\n",
       " 'speed_pickup_hour_dropoff_cluster',\n",
       " 'cnt_pickup_hour_dropoff_cluster',\n",
       " 'speed_pickup_cluster_dropoff_cluster',\n",
       " 'cnt_pickup_cluster_dropoff_cluster']"
      ]
     },
     "execution_count": 38,
     "metadata": {},
     "output_type": "execute_result"
    }
   ],
   "source": [
    "# where are the NAs\n",
    "df_na = train_set.isnull().any()\n",
    "[fea for fea in df_na.index if df_na[fea]]"
   ]
  },
  {
   "cell_type": "code",
   "execution_count": 39,
   "metadata": {},
   "outputs": [
    {
     "name": "stdout",
     "output_type": "stream",
     "text": [
      "speed_pickup_cluster_dropoff_cluster 13.937318553290712\n",
      "speed_pickup_hour_pickup_cluster 14.540319151378998\n",
      "speed_pickup_hour_dropoff_cluster 14.444481219692197\n"
     ]
    }
   ],
   "source": [
    "# fix NAs\n",
    "for col in  ['speed_pickup_cluster_dropoff_cluster',\n",
    "             'speed_pickup_hour_pickup_cluster',\n",
    "             'speed_pickup_hour_dropoff_cluster']:\n",
    "    m = train_set[col].mean()\n",
    "    print(col, m)\n",
    "    train_set[col].fillna(m, inplace=True)\n",
    "    val_set[col].fillna(m, inplace=True)\n",
    "    test[col].fillna(m, inplace=True)"
   ]
  },
  {
   "cell_type": "code",
   "execution_count": 40,
   "metadata": {
    "collapsed": true
   },
   "outputs": [],
   "source": [
    "for col in ['cnt_pickup_cluster_dropoff_cluster', 'cnt_pickup_hour_pickup_cluster', \n",
    "            'cnt_pickup_hour_dropoff_cluster']:\n",
    "    m = 0\n",
    "    train_set[col].fillna(m, inplace=True)\n",
    "    val_set[col].fillna(m, inplace=True)\n",
    "    test[col].fillna(m, inplace=True)"
   ]
  },
  {
   "cell_type": "markdown",
   "metadata": {
    "collapsed": true
   },
   "source": [
    "## Initial model"
   ]
  },
  {
   "cell_type": "code",
   "execution_count": 41,
   "metadata": {},
   "outputs": [
    {
     "data": {
      "text/plain": [
       "(39,)"
      ]
     },
     "execution_count": 41,
     "metadata": {},
     "output_type": "execute_result"
    }
   ],
   "source": [
    "train_set.columns.shape"
   ]
  },
  {
   "cell_type": "code",
   "execution_count": 79,
   "metadata": {},
   "outputs": [
    {
     "data": {
      "text/plain": [
       "Index(['passenger_count', 'pickup_longitude', 'pickup_latitude',\n",
       "       'dropoff_longitude', 'dropoff_latitude', 'distance', 'pickup_weekday',\n",
       "       'pickup_weekofyear', 'pickup_hour', 'pickup_week_hour',\n",
       "       'pickup_cluster', 'dropoff_cluster', 'speed_gby_pickup_weekday',\n",
       "       'log_trip_duration_gby_pickup_weekday', 'speed_gby_pickup_weekofyear',\n",
       "       'log_trip_duration_gby_pickup_weekofyear', 'speed_gby_pickup_hour',\n",
       "       'log_trip_duration_gby_pickup_hour', 'speed_gby_pickup_week_hour',\n",
       "       'log_trip_duration_gby_pickup_week_hour', 'speed_gby_pickup_cluster',\n",
       "       'log_trip_duration_gby_pickup_cluster', 'speed_gby_dropoff_cluster',\n",
       "       'log_trip_duration_gby_dropoff_cluster',\n",
       "       'speed_pickup_hour_pickup_cluster', 'cnt_pickup_hour_pickup_cluster',\n",
       "       'speed_pickup_hour_dropoff_cluster', 'cnt_pickup_hour_dropoff_cluster',\n",
       "       'speed_pickup_cluster_dropoff_cluster',\n",
       "       'cnt_pickup_cluster_dropoff_cluster'],\n",
       "      dtype='object')"
      ]
     },
     "execution_count": 79,
     "metadata": {},
     "output_type": "execute_result"
    }
   ],
   "source": [
    "ind = [4, 5, 6, 7, 8, 13] + list(range(15, 39))\n",
    "features = train_set.columns[ind]\n",
    "features"
   ]
  },
  {
   "cell_type": "code",
   "execution_count": 80,
   "metadata": {},
   "outputs": [
    {
     "data": {
      "text/plain": [
       "(1132432, 39)"
      ]
     },
     "execution_count": 80,
     "metadata": {},
     "output_type": "execute_result"
    }
   ],
   "source": [
    "train_set.shape"
   ]
  },
  {
   "cell_type": "markdown",
   "metadata": {},
   "source": [
    "## XGBoost"
   ]
  },
  {
   "cell_type": "code",
   "execution_count": 81,
   "metadata": {
    "collapsed": true
   },
   "outputs": [],
   "source": [
    "# here is the list of parameters\n",
    "# https://github.com/dmlc/xgboost/blob/master/doc/parameter.md\n",
    "\n",
    "xgb_pars = {'min_child_weight': 50, 'eta': 0.1, 'colsample_bytree': 0.3, 'max_depth': 10,\n",
    "            'subsample': 0.8, 'lambda': 1., 'nthread': -1, 'booster' : 'gbtree', 'silent': 1,\n",
    "            'eval_metric': 'rmse', 'objective': 'reg:linear'}"
   ]
  },
  {
   "cell_type": "code",
   "execution_count": 82,
   "metadata": {
    "collapsed": true
   },
   "outputs": [],
   "source": [
    "# initially training on a subset of the data\n",
    "#train_set = train_set[:500000]\n",
    "train_set.shape\n",
    "\n",
    "train_y = train_set['log_trip_duration'].values\n",
    "val_y = val_set['log_trip_duration'].values\n",
    "\n",
    "dtrain = xgb.DMatrix(train_set[features].values, label=train_y)\n",
    "dvalid = xgb.DMatrix(val_set[features].values, label=val_y)\n",
    "dtest = xgb.DMatrix(test[features].values)\n",
    "watchlist = [(dtrain, 'train'), (dvalid, 'valid')]"
   ]
  },
  {
   "cell_type": "code",
   "execution_count": 83,
   "metadata": {},
   "outputs": [
    {
     "name": "stdout",
     "output_type": "stream",
     "text": [
      "[0]\ttrain-rmse:5.41128\tvalid-rmse:5.40971\n",
      "Multiple eval metrics have been passed: 'valid-rmse' will be used for early stopping.\n",
      "\n",
      "Will train until valid-rmse hasn't improved in 50 rounds.\n",
      "[10]\ttrain-rmse:1.9293\tvalid-rmse:1.92837\n",
      "[20]\ttrain-rmse:0.757041\tvalid-rmse:0.757321\n",
      "[30]\ttrain-rmse:0.420024\tvalid-rmse:0.422537\n",
      "[40]\ttrain-rmse:0.345461\tvalid-rmse:0.35008\n",
      "[50]\ttrain-rmse:0.329555\tvalid-rmse:0.335444\n",
      "[60]\ttrain-rmse:0.321349\tvalid-rmse:0.328439\n",
      "[70]\ttrain-rmse:0.316794\tvalid-rmse:0.324912\n",
      "[80]\ttrain-rmse:0.313587\tvalid-rmse:0.322625\n",
      "[90]\ttrain-rmse:0.310483\tvalid-rmse:0.320369\n",
      "Time fitting xgb: 191 seconds\n"
     ]
    }
   ],
   "source": [
    "# train xgboost model\n",
    "t0 = dt.datetime.now()\n",
    "gbm = xgb.train(xgb_pars, dtrain, 100, watchlist, early_stopping_rounds=50,\n",
    "                maximize=False, verbose_eval=10)\n",
    "t1 = dt.datetime.now()\n",
    "print('Time fitting xgb: %i seconds' % (t1 - t0).seconds)"
   ]
  },
  {
   "cell_type": "code",
   "execution_count": 71,
   "metadata": {
    "collapsed": true
   },
   "outputs": [],
   "source": [
    "predictions = gbm.predict(dvalid)"
   ]
  },
  {
   "cell_type": "code",
   "execution_count": 72,
   "metadata": {},
   "outputs": [
    {
     "data": {
      "text/html": [
       "<div>\n",
       "<style>\n",
       "    .dataframe thead tr:only-child th {\n",
       "        text-align: right;\n",
       "    }\n",
       "\n",
       "    .dataframe thead th {\n",
       "        text-align: left;\n",
       "    }\n",
       "\n",
       "    .dataframe tbody tr th {\n",
       "        vertical-align: top;\n",
       "    }\n",
       "</style>\n",
       "<table border=\"1\" class=\"dataframe\">\n",
       "  <thead>\n",
       "    <tr style=\"text-align: right;\">\n",
       "      <th></th>\n",
       "      <th>pred</th>\n",
       "      <th>y</th>\n",
       "    </tr>\n",
       "  </thead>\n",
       "  <tbody>\n",
       "    <tr>\n",
       "      <th>0</th>\n",
       "      <td>586.344666</td>\n",
       "      <td>663</td>\n",
       "    </tr>\n",
       "    <tr>\n",
       "      <th>1</th>\n",
       "      <td>466.880707</td>\n",
       "      <td>443</td>\n",
       "    </tr>\n",
       "    <tr>\n",
       "      <th>2</th>\n",
       "      <td>1024.837158</td>\n",
       "      <td>1114</td>\n",
       "    </tr>\n",
       "    <tr>\n",
       "      <th>3</th>\n",
       "      <td>1477.978027</td>\n",
       "      <td>1317</td>\n",
       "    </tr>\n",
       "    <tr>\n",
       "      <th>4</th>\n",
       "      <td>418.857788</td>\n",
       "      <td>423</td>\n",
       "    </tr>\n",
       "    <tr>\n",
       "      <th>5</th>\n",
       "      <td>2331.109619</td>\n",
       "      <td>2485</td>\n",
       "    </tr>\n",
       "    <tr>\n",
       "      <th>6</th>\n",
       "      <td>792.289673</td>\n",
       "      <td>694</td>\n",
       "    </tr>\n",
       "    <tr>\n",
       "      <th>7</th>\n",
       "      <td>582.246216</td>\n",
       "      <td>892</td>\n",
       "    </tr>\n",
       "    <tr>\n",
       "      <th>8</th>\n",
       "      <td>1107.140259</td>\n",
       "      <td>1022</td>\n",
       "    </tr>\n",
       "    <tr>\n",
       "      <th>9</th>\n",
       "      <td>536.078979</td>\n",
       "      <td>707</td>\n",
       "    </tr>\n",
       "  </tbody>\n",
       "</table>\n",
       "</div>"
      ],
      "text/plain": [
       "          pred     y\n",
       "0   586.344666   663\n",
       "1   466.880707   443\n",
       "2  1024.837158  1114\n",
       "3  1477.978027  1317\n",
       "4   418.857788   423\n",
       "5  2331.109619  2485\n",
       "6   792.289673   694\n",
       "7   582.246216   892\n",
       "8  1107.140259  1022\n",
       "9   536.078979   707"
      ]
     },
     "execution_count": 72,
     "metadata": {},
     "output_type": "execute_result"
    }
   ],
   "source": [
    "val_y = val_set['trip_duration'].values\n",
    "pred = np.exp(predictions) -1 \n",
    "res = pd.DataFrame({'pred': pred, 'y': val_y})\n",
    "res.head(10)"
   ]
  },
  {
   "cell_type": "code",
   "execution_count": 64,
   "metadata": {},
   "outputs": [],
   "source": [
    "feature_importance_dict = gbm.get_fscore()\n",
    "fs = ['f%i' % i for i in range(len(features))]\n",
    "f1 = pd.DataFrame({'f': list(feature_importance_dict.keys()), 'importance': list(feature_importance_dict.values())})\n",
    "f2 = pd.DataFrame({'f': fs, 'feature_name': features})\n",
    "feature_importance = pd.merge(f1, f2, how='right', on='f')\n",
    "feature_importance = feature_importance.fillna(0)"
   ]
  },
  {
   "cell_type": "code",
   "execution_count": null,
   "metadata": {},
   "outputs": [],
   "source": [
    "feature_importance.sort_values('importance', ascending=True)"
   ]
  },
  {
   "cell_type": "markdown",
   "metadata": {},
   "source": [
    "## Features from external data"
   ]
  },
  {
   "cell_type": "markdown",
   "metadata": {},
   "source": [
    "https://www.kaggle.com/oscarleo/new-york-city-taxi-with-osrm\n",
    "you can get this data with wget\n",
    "\n",
    "wget https://www.kaggle.com/oscarleo/new-york-city-taxi-with-osrm/downloads/fastest_routes_train_part_1.csv"
   ]
  },
  {
   "cell_type": "code",
   "execution_count": null,
   "metadata": {
    "collapsed": true
   },
   "outputs": [],
   "source": []
  },
  {
   "cell_type": "markdown",
   "metadata": {},
   "source": [
    "## References"
   ]
  },
  {
   "cell_type": "markdown",
   "metadata": {},
   "source": [
    "* https://www.kaggle.com/gaborfodor/from-eda-to-the-top-lb-0-367\n",
    "* https://www.slideshare.net/HJvanVeen/feature-engineering-72376750?trk=v-feed"
   ]
  },
  {
   "cell_type": "code",
   "execution_count": null,
   "metadata": {
    "collapsed": true
   },
   "outputs": [],
   "source": []
  }
 ],
 "metadata": {
  "kernelspec": {
   "display_name": "Python 3",
   "language": "python",
   "name": "python3"
  },
  "language_info": {
   "codemirror_mode": {
    "name": "ipython",
    "version": 3
   },
   "file_extension": ".py",
   "mimetype": "text/x-python",
   "name": "python",
   "nbconvert_exporter": "python",
   "pygments_lexer": "ipython3",
   "version": "3.6.2"
  }
 },
 "nbformat": 4,
 "nbformat_minor": 2
}
